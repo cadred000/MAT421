{
  "cells": [
    {
      "cell_type": "markdown",
      "metadata": {
        "id": "view-in-github",
        "colab_type": "text"
      },
      "source": [
        "<a href=\"https://colab.research.google.com/github/cadred000/MAT421/blob/main/Module_A.ipynb\" target=\"_parent\"><img src=\"https://colab.research.google.com/assets/colab-badge.svg\" alt=\"Open In Colab\"/></a>"
      ]
    },
    {
      "cell_type": "markdown",
      "id": "4001a2b9-d453-4db4-be1f-f5b7e76b9465",
      "metadata": {
        "id": "4001a2b9-d453-4db4-be1f-f5b7e76b9465"
      },
      "source": [
        "# Dan Gibson - Module A Homework"
      ]
    },
    {
      "cell_type": "code",
      "execution_count": null,
      "id": "708fc896-5ed2-46d5-b009-2cf71c6e9016",
      "metadata": {
        "id": "708fc896-5ed2-46d5-b009-2cf71c6e9016"
      },
      "outputs": [],
      "source": [
        "import numpy as np\n",
        "import sys\n",
        "import matplotlib.pyplot as plt"
      ]
    },
    {
      "cell_type": "markdown",
      "id": "786d56b7-f6d5-4d8a-b5e6-eb4af442aaa4",
      "metadata": {
        "id": "786d56b7-f6d5-4d8a-b5e6-eb4af442aaa4"
      },
      "source": [
        "## Binary Examples"
      ]
    },
    {
      "cell_type": "markdown",
      "id": "b66bd21f-2c5b-4f90-8782-81f02446941d",
      "metadata": {
        "id": "b66bd21f-2c5b-4f90-8782-81f02446941d"
      },
      "source": [
        "Python has built-in functions that can convert integers to binary and format them."
      ]
    },
    {
      "cell_type": "code",
      "execution_count": null,
      "id": "ca40d5c0-1815-49c2-a58a-4d5689c311d6",
      "metadata": {
        "id": "ca40d5c0-1815-49c2-a58a-4d5689c311d6",
        "outputId": "0e950121-f083-4026-965b-507a0b8e7ceb"
      },
      "outputs": [
        {
          "data": {
            "text/plain": [
              "'101001101'"
            ]
          },
          "execution_count": 51,
          "metadata": {},
          "output_type": "execute_result"
        }
      ],
      "source": [
        "f'{333:b}'"
      ]
    },
    {
      "cell_type": "code",
      "execution_count": null,
      "id": "876ac9cd-b0e5-4b3a-9240-ffda3e8ed43f",
      "metadata": {
        "id": "876ac9cd-b0e5-4b3a-9240-ffda3e8ed43f",
        "outputId": "c7d3a7f3-484f-48d8-f93f-6d9d57600077"
      },
      "outputs": [
        {
          "name": "stdout",
          "output_type": "stream",
          "text": [
            "4 + 7 = 11 = 1011\n",
            "4(7) = 28 = 11100\n"
          ]
        }
      ],
      "source": [
        "# Arithmetic with binary conversion\n",
        "x = bin(4)\n",
        "y = bin(7)\n",
        "print(f\"4 + 7 = {int(x, 2) + int(y, 2)} = {bin(int(x,2) + int(y,2))[2:]}\")\n",
        "print(f\"4(7) = {int(x,2)*int(y,2)} = {bin(int(x,2)*int(y,2))[2:]}\")"
      ]
    },
    {
      "cell_type": "markdown",
      "id": "f1050508-c02d-46d3-abca-90d6a7b8e4bb",
      "metadata": {
        "id": "f1050508-c02d-46d3-abca-90d6a7b8e4bb"
      },
      "source": [
        "## Floating Point Numbers"
      ]
    },
    {
      "cell_type": "markdown",
      "id": "96a2c120-035c-4642-8ebf-da28552b5a2e",
      "metadata": {
        "id": "96a2c120-035c-4642-8ebf-da28552b5a2e"
      },
      "source": [
        "We can use the \"float_info\" function to show us some information about how Python deals with floating point numbers."
      ]
    },
    {
      "cell_type": "code",
      "execution_count": null,
      "id": "63fda2e0-b24b-4910-a7f2-6f66ac1a4254",
      "metadata": {
        "id": "63fda2e0-b24b-4910-a7f2-6f66ac1a4254",
        "outputId": "3679bd75-bafc-44dc-c34e-0e9737d9ddf6"
      },
      "outputs": [
        {
          "data": {
            "text/plain": [
              "sys.float_info(max=1.7976931348623157e+308, max_exp=1024, max_10_exp=308, min=2.2250738585072014e-308, min_exp=-1021, min_10_exp=-307, dig=15, mant_dig=53, epsilon=2.220446049250313e-16, radix=2, rounds=1)"
            ]
          },
          "execution_count": 53,
          "metadata": {},
          "output_type": "execute_result"
        }
      ],
      "source": [
        "sys.float_info"
      ]
    },
    {
      "cell_type": "markdown",
      "id": "b8e95d94-4e75-4b54-80e1-a857f3f692da",
      "metadata": {
        "id": "b8e95d94-4e75-4b54-80e1-a857f3f692da"
      },
      "source": [
        "The spacing function in numpy will allow us to find the gap between one number to the next."
      ]
    },
    {
      "cell_type": "code",
      "execution_count": null,
      "id": "d53f1d74-b380-4b23-81fc-fc19389eabe6",
      "metadata": {
        "id": "d53f1d74-b380-4b23-81fc-fc19389eabe6",
        "outputId": "4e0789b6-6127-417b-a1b3-23b53970ba4a"
      },
      "outputs": [
        {
          "name": "stdout",
          "output_type": "stream",
          "text": [
            "In Python, the largest number less than 7 is 6.999999999999999\n",
            "The smallest number greater than 7 is 7.000000000000001\n"
          ]
        }
      ],
      "source": [
        "# find the largest number < 7 and the smallest number > 7\n",
        "x = 7\n",
        "print(f\"In Python, the largest number less than 7 is {x - np.spacing(x)}\")\n",
        "print(f\"The smallest number greater than 7 is {x + np.spacing(x)}\")"
      ]
    },
    {
      "cell_type": "markdown",
      "id": "7c971468-d7d6-4cc2-979f-8f8fce1af6a5",
      "metadata": {
        "id": "7c971468-d7d6-4cc2-979f-8f8fce1af6a5"
      },
      "source": [
        "Overflow and underflow are represented by inf and 0.\n"
      ]
    },
    {
      "cell_type": "code",
      "execution_count": null,
      "id": "03050828-cfa1-4ee1-83e0-1ed6af5f1c6f",
      "metadata": {
        "id": "03050828-cfa1-4ee1-83e0-1ed6af5f1c6f",
        "outputId": "2f8f9e6a-f79f-42db-908c-e3617a6e770a"
      },
      "outputs": [
        {
          "data": {
            "text/plain": [
              "inf"
            ]
          },
          "execution_count": 55,
          "metadata": {},
          "output_type": "execute_result"
        }
      ],
      "source": [
        "# Overflow example using the largest number possible and doubling it\n",
        "sys.float_info.max * 2"
      ]
    },
    {
      "cell_type": "code",
      "execution_count": null,
      "id": "e9df0b1b-de18-4656-91e5-cea49f2d3a02",
      "metadata": {
        "id": "e9df0b1b-de18-4656-91e5-cea49f2d3a02",
        "outputId": "993aadae-0094-4778-96c2-19cb97b3a14b"
      },
      "outputs": [
        {
          "data": {
            "text/plain": [
              "0.0"
            ]
          },
          "execution_count": 56,
          "metadata": {},
          "output_type": "execute_result"
        }
      ],
      "source": [
        "# Underflow example using an exponent smaller than the smallest allowed\n",
        "3 ** (-1026)"
      ]
    },
    {
      "cell_type": "markdown",
      "id": "0bf07898-773d-4e37-b3e9-3468b4620083",
      "metadata": {
        "id": "0bf07898-773d-4e37-b3e9-3468b4620083"
      },
      "source": [
        "## Round-off Errors"
      ]
    },
    {
      "cell_type": "markdown",
      "id": "679be4e5-2986-46a9-a29e-7f1959a55773",
      "metadata": {
        "id": "679be4e5-2986-46a9-a29e-7f1959a55773"
      },
      "source": [
        "This error occurs when operations are performed on numbers that have been approximated."
      ]
    },
    {
      "cell_type": "code",
      "execution_count": null,
      "id": "cbb110db-2635-4a2e-8dd4-c39670677db7",
      "metadata": {
        "id": "cbb110db-2635-4a2e-8dd4-c39670677db7",
        "outputId": "f03c63ab-a79c-401b-e1c1-bdd6295677e0"
      },
      "outputs": [
        {
          "data": {
            "text/plain": [
              "0.15000000000000036"
            ]
          },
          "execution_count": 57,
          "metadata": {},
          "output_type": "execute_result"
        }
      ],
      "source": [
        "10.0 - 9.85"
      ]
    },
    {
      "cell_type": "markdown",
      "id": "7912dd63-08cc-425f-9cf8-88d77adff6ed",
      "metadata": {
        "id": "7912dd63-08cc-425f-9cf8-88d77adff6ed"
      },
      "source": [
        "The answer should be exactly 0.15, but it is not. This error will accumulate as additional operations are performed.  We can show this using a plot of showing the size of the accumulated error against number of operations."
      ]
    },
    {
      "cell_type": "code",
      "execution_count": null,
      "id": "ee341f74-e02b-4d3d-8f8f-df3c50e6ed91",
      "metadata": {
        "id": "ee341f74-e02b-4d3d-8f8f-df3c50e6ed91",
        "outputId": "934a42a4-c1a7-462c-9019-f479846c7ba7"
      },
      "outputs": [
        {
          "data": {
            "image/png": "[encoded data removed]",
            "text/plain": [
              "<Figure size 1000x500 with 1 Axes>"
            ]
          },
          "metadata": {},
          "output_type": "display_data"
        }
      ],
      "source": [
        "iterations = 50\n",
        "base = np.e\n",
        "actual = []\n",
        "accumulated = []\n",
        "errors = []\n",
        "counter = 1\n",
        "for i in range(1,iterations):\n",
        "    act = np.exp(i)\n",
        "    counter *= base\n",
        "    actual.append(act)\n",
        "    accumulated.append(counter)\n",
        "    errors.append(abs(act - counter))\n",
        "plt.figure(figsize=(10,5))\n",
        "plt.plot(range(1,iterations), errors, label='Accumulated Rounding Error')\n",
        "plt.xlabel('Iterations')\n",
        "plt.xlim(30,36.5)\n",
        "plt.ylabel('Error')\n",
        "plt.ylim(0,10)\n",
        "plt.title('Accumulated Error over Iterations')\n",
        "plt.legend()\n",
        "plt.tight_layout()\n",
        "plt.show()"
      ]
    },
    {
      "cell_type": "markdown",
      "id": "189bc846-c0db-4924-9644-e16a4b916b69",
      "metadata": {
        "id": "189bc846-c0db-4924-9644-e16a4b916b69"
      },
      "source": [
        "Here we see the difference between the actual value of $e^x$ and the rounded value, taken over multiple iterations.  While Python remains accurate until approximately 30 iterations, the accumulated error quickly increases dramatically for subsequent calculations. After this point, it would be wise to consider the reliability of the results if accuracy is critical."
      ]
    },
    {
      "cell_type": "code",
      "execution_count": null,
      "id": "73b7952b-aca5-4c55-bfad-ac21f4d6f764",
      "metadata": {
        "id": "73b7952b-aca5-4c55-bfad-ac21f4d6f764"
      },
      "outputs": [],
      "source": []
    }
  ],
  "metadata": {
    "kernelspec": {
      "display_name": "Python 3 (ipykernel)",
      "language": "python",
      "name": "python3"
    },
    "language_info": {
      "codemirror_mode": {
        "name": "ipython",
        "version": 3
      },
      "file_extension": ".py",
      "mimetype": "text/x-python",
      "name": "python",
      "nbconvert_exporter": "python",
      "pygments_lexer": "ipython3",
      "version": "3.11.5"
    },
    "colab": {
      "provenance": [],
      "include_colab_link": true
    }
  },
  "nbformat": 4,
  "nbformat_minor": 5
}