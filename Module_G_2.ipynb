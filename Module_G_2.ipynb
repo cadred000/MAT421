{
  "cells": [
    {
      "cell_type": "markdown",
      "metadata": {
        "id": "view-in-github",
        "colab_type": "text"
      },
      "source": [
        "<a href=\"https://colab.research.google.com/github/cadred000/MAT421/blob/main/Module_G_2.ipynb\" target=\"_parent\"><img src=\"https://colab.research.google.com/assets/colab-badge.svg\" alt=\"Open In Colab\"/></a>"
      ]
    },
    {
      "cell_type": "markdown",
      "id": "b19d78da-12fa-4605-abe3-763bf3c53704",
      "metadata": {
        "id": "b19d78da-12fa-4605-abe3-763bf3c53704"
      },
      "source": [
        "# Dan Gibson\n",
        "# Module G Part 2 Homework"
      ]
    },
    {
      "cell_type": "markdown",
      "id": "7f445dc6-f829-41c6-a9aa-946edfee4a49",
      "metadata": {
        "id": "7f445dc6-f829-41c6-a9aa-946edfee4a49"
      },
      "source": [
        "## Simpson's rule"
      ]
    },
    {
      "cell_type": "markdown",
      "id": "829a49ab-e8a4-417d-80b5-de7718999cda",
      "metadata": {
        "id": "829a49ab-e8a4-417d-80b5-de7718999cda"
      },
      "source": [
        "Simpson's rule fits a quadratic polynomial to consecutive subintervals over some interval."
      ]
    },
    {
      "cell_type": "code",
      "execution_count": null,
      "id": "48d997e3-f2b3-4c79-aec5-90a03000caf4",
      "metadata": {
        "id": "48d997e3-f2b3-4c79-aec5-90a03000caf4",
        "outputId": "3e339a31-3dac-4523-eb56-a90ea41c7c0b"
      },
      "outputs": [
        {
          "name": "stdout",
          "output_type": "stream",
          "text": [
            "0.29919930034188486\n",
            "1.700800699658115\n"
          ]
        }
      ],
      "source": [
        "# Similar to the code in the book\n",
        "\n",
        "import numpy as np\n",
        "\n",
        "a = 0\n",
        "b = 2 * np.pi\n",
        "n = 15\n",
        "h = (b - a) / (n - 1)\n",
        "x = np.linspace(a, b, n)\n",
        "f = np.sin(x) + np.cos(x)\n",
        "\n",
        "I_simp = (h/3) * (f[0] + 2*sum(f[:n-2:2]) \\\n",
        "            + 4*sum(f[1:n-1:2]) + f[n-1])\n",
        "err_simp = 2 - I_simp\n",
        "\n",
        "print(I_simp)\n",
        "print(err_simp)\n"
      ]
    },
    {
      "cell_type": "code",
      "execution_count": null,
      "id": "d4093661-f1db-4cf3-bb8a-490113092596",
      "metadata": {
        "id": "d4093661-f1db-4cf3-bb8a-490113092596"
      },
      "outputs": [],
      "source": []
    }
  ],
  "metadata": {
    "kernelspec": {
      "display_name": "Python 3 (ipykernel)",
      "language": "python",
      "name": "python3"
    },
    "language_info": {
      "codemirror_mode": {
        "name": "ipython",
        "version": 3
      },
      "file_extension": ".py",
      "mimetype": "text/x-python",
      "name": "python",
      "nbconvert_exporter": "python",
      "pygments_lexer": "ipython3",
      "version": "3.11.5"
    },
    "colab": {
      "provenance": [],
      "include_colab_link": true
    }
  },
  "nbformat": 4,
  "nbformat_minor": 5
}