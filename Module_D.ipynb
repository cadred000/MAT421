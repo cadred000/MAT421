{
  "cells": [
    {
      "cell_type": "markdown",
      "metadata": {
        "id": "view-in-github",
        "colab_type": "text"
      },
      "source": [
        "<a href=\"https://colab.research.google.com/github/cadred000/MAT421/blob/main/Module_D.ipynb\" target=\"_parent\"><img src=\"https://colab.research.google.com/assets/colab-badge.svg\" alt=\"Open In Colab\"/></a>"
      ]
    },
    {
      "cell_type": "markdown",
      "id": "ff4098da-fccf-4790-8782-5166459a6da7",
      "metadata": {
        "id": "ff4098da-fccf-4790-8782-5166459a6da7"
      },
      "source": [
        "# Dan Gibson - Module D Homework"
      ]
    },
    {
      "cell_type": "markdown",
      "id": "aee08d84-ca02-4da9-acf8-84b5c3be6c6e",
      "metadata": {
        "id": "aee08d84-ca02-4da9-acf8-84b5c3be6c6e"
      },
      "source": [
        "# Linear Algebra Concepts"
      ]
    },
    {
      "cell_type": "markdown",
      "id": "3d04ae9b-fee5-400f-832d-47f9554ad228",
      "metadata": {
        "id": "3d04ae9b-fee5-400f-832d-47f9554ad228"
      },
      "source": [
        "Linear Spaces in Python"
      ]
    },
    {
      "cell_type": "code",
      "execution_count": null,
      "id": "506d3f61-39bc-4a0c-990a-881cd7b07f0e",
      "metadata": {
        "id": "506d3f61-39bc-4a0c-990a-881cd7b07f0e",
        "outputId": "e0378db6-8889-4465-967e-9bbd185b209d"
      },
      "outputs": [
        {
          "data": {
            "text/plain": [
              "array([11, 21, 31])"
            ]
          },
          "execution_count": 1,
          "metadata": {},
          "output_type": "execute_result"
        }
      ],
      "source": [
        "import numpy as np\n",
        "\n",
        "vector_1 = np.array([2,4,6])\n",
        "vector_2 = np.array([3,5,7])\n",
        "scalar = 4\n",
        "vector_3 = scalar * vector_1 + vector_2\n",
        "vector_3"
      ]
    },
    {
      "cell_type": "markdown",
      "id": "444100e7-2680-4101-b957-bbb364527cf8",
      "metadata": {
        "id": "444100e7-2680-4101-b957-bbb364527cf8"
      },
      "source": [
        "Linear Independence - This code checks for the linear independence of the vectors in a given the matrix."
      ]
    },
    {
      "cell_type": "code",
      "execution_count": null,
      "id": "befb479c-6b21-4d19-8e59-4a1576967f7a",
      "metadata": {
        "id": "befb479c-6b21-4d19-8e59-4a1576967f7a",
        "outputId": "9eff375a-37e2-4055-dd1f-3c86ce1c29f9"
      },
      "outputs": [
        {
          "data": {
            "text/plain": [
              "False"
            ]
          },
          "execution_count": 2,
          "metadata": {},
          "output_type": "execute_result"
        }
      ],
      "source": [
        "matrix_1 = np.column_stack((vector_1, vector_2))\n",
        "matrix_2 = np.column_stack((matrix_1, vector_3))\n",
        "\n",
        "rank = np.linalg.matrix_rank(matrix_1)\n",
        "new_rank = np.linalg.matrix_rank(matrix_2)\n",
        "\n",
        "lin_ind = True\n",
        "\n",
        "if new_rank != matrix_2.shape[1]:\n",
        "    lin_ind = False\n",
        "\n",
        "lin_ind"
      ]
    },
    {
      "cell_type": "code",
      "execution_count": null,
      "id": "03febf67-b791-4b33-9c61-b3d41a330c9a",
      "metadata": {
        "id": "03febf67-b791-4b33-9c61-b3d41a330c9a",
        "outputId": "781dfcfa-4b7f-4405-ecb5-353ae969cfc8"
      },
      "outputs": [
        {
          "data": {
            "text/plain": [
              "True"
            ]
          },
          "execution_count": 8,
          "metadata": {},
          "output_type": "execute_result"
        }
      ],
      "source": [
        "lin_ind2 = True\n",
        "\n",
        "if rank != matrix_1.shape[1]:\n",
        "    lin_ind2 = False\n",
        "\n",
        "lin_ind2"
      ]
    },
    {
      "cell_type": "markdown",
      "id": "e6d8f067-2408-4e4f-8426-64d3dd900d77",
      "metadata": {
        "id": "e6d8f067-2408-4e4f-8426-64d3dd900d77"
      },
      "source": [
        "Orthogonality"
      ]
    },
    {
      "cell_type": "code",
      "execution_count": null,
      "id": "57ebf93a-9038-4c05-9ab3-4ca0d6a296d6",
      "metadata": {
        "id": "57ebf93a-9038-4c05-9ab3-4ca0d6a296d6",
        "outputId": "c066ce45-38a5-471b-bb73-4a1310db4ede"
      },
      "outputs": [
        {
          "data": {
            "text/plain": [
              "False"
            ]
          },
          "execution_count": 9,
          "metadata": {},
          "output_type": "execute_result"
        }
      ],
      "source": [
        "dot_product = np.dot(vector_1, vector_2)\n",
        "\n",
        "is_orthog = True\n",
        "\n",
        "if dot_product != 0:\n",
        "    is_orthog = False\n",
        "\n",
        "is_orthog"
      ]
    },
    {
      "cell_type": "code",
      "execution_count": null,
      "id": "95f99976-85e4-4a1b-a8f1-34d6cf6f0513",
      "metadata": {
        "id": "95f99976-85e4-4a1b-a8f1-34d6cf6f0513",
        "outputId": "42540c30-8f07-4f0f-8c73-90747de82a09"
      },
      "outputs": [
        {
          "data": {
            "text/plain": [
              "True"
            ]
          },
          "execution_count": 10,
          "metadata": {},
          "output_type": "execute_result"
        }
      ],
      "source": [
        "vector_4 = ([0,1,0])\n",
        "vector_5 = ([1,0,1])\n",
        "\n",
        "dot_2 = np.dot(vector_4, vector_5)\n",
        "\n",
        "new_is_orthog = True\n",
        "\n",
        "if dot_2 != 0:\n",
        "    new_is_orthog = False\n",
        "\n",
        "new_is_orthog"
      ]
    },
    {
      "cell_type": "markdown",
      "id": "95e04a9a-0c8e-4e15-a2e1-5ab5cdf4a105",
      "metadata": {
        "id": "95e04a9a-0c8e-4e15-a2e1-5ab5cdf4a105"
      },
      "source": [
        "Eigenvalues and Eigenvectors"
      ]
    },
    {
      "cell_type": "code",
      "execution_count": null,
      "id": "9f848cfd-0e80-4e90-bc2b-4a2a821b0cc5",
      "metadata": {
        "id": "9f848cfd-0e80-4e90-bc2b-4a2a821b0cc5",
        "outputId": "2a2ec618-8f3f-4d6c-a59a-27f14fc9d71a"
      },
      "outputs": [
        {
          "data": {
            "text/plain": [
              "(array([-2.43717104,  9.43717104]),\n",
              " array([[-0.6768954 , -0.61342919],\n",
              "        [ 0.73607922, -0.78974972]]))"
            ]
          },
          "execution_count": 14,
          "metadata": {},
          "output_type": "execute_result"
        }
      ],
      "source": [
        "new_matrix = np.array([[3,5],[7,4]])\n",
        "eigenvalues, eigenvectors = np.linalg.eig(new_matrix)\n",
        "eigenvalues, eigenvectors"
      ]
    },
    {
      "cell_type": "markdown",
      "id": "45be380d-5063-4944-9aa9-2302355fbbfd",
      "metadata": {
        "id": "45be380d-5063-4944-9aa9-2302355fbbfd"
      },
      "source": [
        "## Linear Regression"
      ]
    },
    {
      "cell_type": "code",
      "execution_count": null,
      "id": "fd995b17-3dbb-4b4b-9a71-42c65479e292",
      "metadata": {
        "id": "fd995b17-3dbb-4b4b-9a71-42c65479e292",
        "outputId": "f95b7546-5c26-410d-fa1c-f5eef56517a2"
      },
      "outputs": [
        {
          "data": {
            "image/png": "[encoded data removed]",
            "text/plain": [
              "<Figure size 640x480 with 1 Axes>"
            ]
          },
          "metadata": {},
          "output_type": "display_data"
        }
      ],
      "source": [
        "import matplotlib.pyplot as plt\n",
        "from sklearn.linear_model import LinearRegression\n",
        "\n",
        "np.random.seed(0)\n",
        "X = np.sqrt(12) * np.random.rand(100,1)\n",
        "y = 3**2 + X*3 + np.random.randn(100,1)\n",
        "\n",
        "plt.scatter(X, y, color='blue')\n",
        "plt.title('Sample Linear Regression Plot')\n",
        "plt.xlabel('X')\n",
        "plt.ylabel('y')\n",
        "plt.show()"
      ]
    },
    {
      "cell_type": "code",
      "execution_count": null,
      "id": "7eb797b0-a212-4493-a5d8-636226570c63",
      "metadata": {
        "id": "7eb797b0-a212-4493-a5d8-636226570c63",
        "outputId": "547a8b9d-0fcc-4c87-f445-76f48ad7e1b4"
      },
      "outputs": [
        {
          "data": {
            "image/png": "[encoded data removed]",
            "text/plain": [
              "<Figure size 640x480 with 1 Axes>"
            ]
          },
          "metadata": {},
          "output_type": "display_data"
        }
      ],
      "source": [
        "model = LinearRegression()\n",
        "model.fit(X,y)\n",
        "\n",
        "X_new = np.array([[0], [3.5]])\n",
        "y_pred = model.predict(X_new)\n",
        "\n",
        "plt.scatter(X, y, color='blue')\n",
        "plt.plot(X_new, y_pred, color='red', linewidth=2)\n",
        "plt.title('Linear Regression Plot')\n",
        "plt.xlabel('X')\n",
        "plt.ylabel('y')\n",
        "plt.show()"
      ]
    },
    {
      "cell_type": "code",
      "execution_count": null,
      "id": "533abc2f-c92d-45be-87ad-3667598f8fd3",
      "metadata": {
        "id": "533abc2f-c92d-45be-87ad-3667598f8fd3"
      },
      "outputs": [],
      "source": []
    }
  ],
  "metadata": {
    "kernelspec": {
      "display_name": "Python 3 (ipykernel)",
      "language": "python",
      "name": "python3"
    },
    "language_info": {
      "codemirror_mode": {
        "name": "ipython",
        "version": 3
      },
      "file_extension": ".py",
      "mimetype": "text/x-python",
      "name": "python",
      "nbconvert_exporter": "python",
      "pygments_lexer": "ipython3",
      "version": "3.11.5"
    },
    "colab": {
      "provenance": [],
      "include_colab_link": true
    }
  },
  "nbformat": 4,
  "nbformat_minor": 5
}