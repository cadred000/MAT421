{
  "cells": [
    {
      "cell_type": "markdown",
      "metadata": {
        "id": "view-in-github",
        "colab_type": "text"
      },
      "source": [
        "<a href=\"https://colab.research.google.com/github/cadred000/MAT421/blob/main/Module_G.ipynb\" target=\"_parent\"><img src=\"https://colab.research.google.com/assets/colab-badge.svg\" alt=\"Open In Colab\"/></a>"
      ]
    },
    {
      "cell_type": "markdown",
      "id": "fe0e8e1e-2563-463c-a4c8-75563dfd3da1",
      "metadata": {
        "id": "fe0e8e1e-2563-463c-a4c8-75563dfd3da1"
      },
      "source": [
        "# Module G\n",
        "# Dan Gibson"
      ]
    },
    {
      "cell_type": "markdown",
      "id": "11c94e9e-f1f8-4fd4-a3ea-ae4e2009ec09",
      "metadata": {
        "id": "11c94e9e-f1f8-4fd4-a3ea-ae4e2009ec09"
      },
      "source": [
        "## Numerical Integration Problem Statement"
      ]
    },
    {
      "cell_type": "markdown",
      "id": "dcdbb6ff-6684-4ccb-8991-2239eaa2e72d",
      "metadata": {
        "id": "dcdbb6ff-6684-4ccb-8991-2239eaa2e72d"
      },
      "source": [
        "Let a closed interval be $ A $ on $ [a,b] $. Then, with the goal of approximating the integral over the entire interval, we must first discretize $A$ with consistent spacing.  Then, any subinterval in $A$ can be approximated using various techiniques in Python."
      ]
    },
    {
      "cell_type": "markdown",
      "id": "4a292767-ff07-4c3e-b13a-09daf78aeb08",
      "metadata": {
        "id": "4a292767-ff07-4c3e-b13a-09daf78aeb08"
      },
      "source": [
        "## Riemann's Integral"
      ]
    },
    {
      "cell_type": "code",
      "execution_count": null,
      "id": "2b8b2394-af67-43cf-800a-201767192ccf",
      "metadata": {
        "id": "2b8b2394-af67-43cf-800a-201767192ccf",
        "outputId": "1d67bbb6-2535-4e9e-b07d-a2eb31b2cd78"
      },
      "outputs": [
        {
          "name": "stdout",
          "output_type": "stream",
          "text": [
            "The left sum is 1.9835235375094546\n",
            "The error for the left sum is 0.01647646249054535\n",
            "\n",
            "The right sum is 1.9835235375094546\n",
            "The error for the right sum is 0.01647646249054535\n",
            "\n",
            "The sum using the midpoint rule is 2.0082484079079745\n",
            "The error for the midpoint is -0.008248407907974542\n"
          ]
        }
      ],
      "source": [
        "# Copied directly out of the book\n",
        "# This code approximates the integran of sin(x) over [0,pi] using left, right and midpoint Reimann sums.\n",
        "\n",
        "import numpy as np\n",
        "\n",
        "a = 0\n",
        "b = np.pi\n",
        "n = 11\n",
        "h = (b - a) / (n - 1)\n",
        "x = np.linspace(a, b, n)\n",
        "f = np.sin(x)\n",
        "\n",
        "I_riemannL = h * sum(f[:n-1])\n",
        "err_riemannL = 2 - I_riemannL\n",
        "\n",
        "I_riemannR = h * sum(f[1::])\n",
        "err_riemannR = 2 - I_riemannR\n",
        "\n",
        "I_mid = h * sum(np.sin((x[:n-1] \\\n",
        "        + x[1:])/2))\n",
        "err_mid = 2 - I_mid\n",
        "\n",
        "print(f\"The left sum is {I_riemannL}\")\n",
        "print(f\"The error for the left sum is {err_riemannL}\\n\")\n",
        "\n",
        "print(f\"The right sum is {I_riemannR}\")\n",
        "print(f\"The error for the right sum is {err_riemannR}\\n\")\n",
        "\n",
        "print(f\"The sum using the midpoint rule is {I_mid}\")\n",
        "print(f\"The error for the midpoint is {err_mid}\")"
      ]
    },
    {
      "cell_type": "markdown",
      "id": "d0e2640c-650c-4010-9a26-d29c161d56d0",
      "metadata": {
        "id": "d0e2640c-650c-4010-9a26-d29c161d56d0"
      },
      "source": [
        "## Trapezoid Rule"
      ]
    },
    {
      "cell_type": "code",
      "execution_count": null,
      "id": "14c5623e-37fa-4516-bcf5-4209022a7353",
      "metadata": {
        "id": "14c5623e-37fa-4516-bcf5-4209022a7353",
        "outputId": "a0fe2c9e-66c2-4244-e88e-faef29e47e09"
      },
      "outputs": [
        {
          "name": "stdout",
          "output_type": "stream",
          "text": [
            "Approximation of sin(x) using the Trapezoid Rule = 1.9835235375094546\n",
            "Error = 0.01647646249054535\n"
          ]
        }
      ],
      "source": [
        "# This is the code out of the book\n",
        "# The same sin(x) function is approximated using the trapezoid rule\n",
        "# I am pressed for time so I had to just use what the book gave me.  I am already familiar with intergration with Python and use scipy for this.\n",
        "\n",
        "I_trap = (h/2)*(f[0] + \\\n",
        "          2 * sum(f[1:n-1]) + f[n-1])\n",
        "err_trap = 2 - I_trap\n",
        "\n",
        "print(f\"Approximation of sin(x) using the Trapezoid Rule = {I_trap}\")\n",
        "print(f\"Error = {err_trap}\")"
      ]
    }
  ],
  "metadata": {
    "kernelspec": {
      "display_name": "Python 3 (ipykernel)",
      "language": "python",
      "name": "python3"
    },
    "language_info": {
      "codemirror_mode": {
        "name": "ipython",
        "version": 3
      },
      "file_extension": ".py",
      "mimetype": "text/x-python",
      "name": "python",
      "nbconvert_exporter": "python",
      "pygments_lexer": "ipython3",
      "version": "3.11.5"
    },
    "colab": {
      "provenance": [],
      "include_colab_link": true
    }
  },
  "nbformat": 4,
  "nbformat_minor": 5
}