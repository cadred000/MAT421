{
  "cells": [
    {
      "cell_type": "markdown",
      "metadata": {
        "id": "view-in-github",
        "colab_type": "text"
      },
      "source": [
        "<a href=\"https://colab.research.google.com/github/cadred000/MAT421/blob/main/Module_C.ipynb\" target=\"_parent\"><img src=\"https://colab.research.google.com/assets/colab-badge.svg\" alt=\"Open In Colab\"/></a>"
      ]
    },
    {
      "cell_type": "markdown",
      "id": "e714ac4c-7569-4535-a081-2b6d83fadf12",
      "metadata": {
        "id": "e714ac4c-7569-4535-a081-2b6d83fadf12"
      },
      "source": [
        "# Dan Gibson - Module C Homework"
      ]
    },
    {
      "cell_type": "markdown",
      "id": "67fbea46-e317-40f1-9865-73084f0c0470",
      "metadata": {
        "id": "67fbea46-e317-40f1-9865-73084f0c0470"
      },
      "source": [
        "## Finding Roots"
      ]
    },
    {
      "cell_type": "markdown",
      "id": "141496b2-2083-4199-acf6-b73b4fcf961f",
      "metadata": {
        "id": "141496b2-2083-4199-acf6-b73b4fcf961f"
      },
      "source": [
        "Finding the roots of a function are an important mathematical tool and Python has a few techniques that will help us do just that."
      ]
    },
    {
      "cell_type": "code",
      "execution_count": null,
      "id": "c715d7d8-a375-4235-a3b6-0cb8d159ebe3",
      "metadata": {
        "id": "c715d7d8-a375-4235-a3b6-0cb8d159ebe3",
        "outputId": "ae24a5eb-f5a9-4dd2-d4b6-7e9668d38b81"
      },
      "outputs": [
        {
          "name": "stdout",
          "output_type": "stream",
          "text": [
            "root =  [5.37862841]\n",
            "verification =  [3.33066907e-16]\n"
          ]
        }
      ],
      "source": [
        "import numpy as np\n",
        "from scipy import optimize\n",
        "import matplotlib.pyplot as plt\n",
        "\n",
        "f = lambda x: np.cos(x)-np.sin(x)**2\n",
        "r = optimize.fsolve(f, -2)\n",
        "print(\"root = \", r)\n",
        "\n",
        "verify = f(r)\n",
        "print(\"verification = \", verify)"
      ]
    },
    {
      "cell_type": "markdown",
      "id": "5d96be37-b76c-432c-b0e5-863e2c4d1430",
      "metadata": {
        "id": "5d96be37-b76c-432c-b0e5-863e2c4d1430"
      },
      "source": [
        "The value for the verification is very close to zero, so we will let Python slide for now."
      ]
    },
    {
      "cell_type": "markdown",
      "id": "c5a1ce9d-d8d2-497b-8e1e-5c799ed62f0d",
      "metadata": {
        "id": "c5a1ce9d-d8d2-497b-8e1e-5c799ed62f0d"
      },
      "source": [
        "## Tolerance"
      ]
    },
    {
      "cell_type": "markdown",
      "id": "864ef6a8-cb21-4618-abf0-da145b5b81dc",
      "metadata": {
        "id": "864ef6a8-cb21-4618-abf0-da145b5b81dc"
      },
      "source": [
        "Tolerance is the level of error that is acceptable in a given application."
      ]
    },
    {
      "cell_type": "code",
      "execution_count": null,
      "id": "eab47fd1-05e2-43ef-b255-9e01281dc59f",
      "metadata": {
        "id": "eab47fd1-05e2-43ef-b255-9e01281dc59f",
        "outputId": "fc72814c-d194-48c5-87fc-9854b2ce9cac"
      },
      "outputs": [
        {
          "name": "stdout",
          "output_type": "stream",
          "text": [
            "root =  [5.37862841]\n",
            "verification with tolerance =  [-2.26992214e-09]\n",
            "The solution converged.\n"
          ]
        }
      ],
      "source": [
        "r, infodict, ier, mesg = optimize.fsolve(f, -2, xtol=0.00001, full_output=True)\n",
        "print(\"root = \", r)\n",
        "new_verify = f(r)\n",
        "print(\"verification with tolerance = \", new_verify)\n",
        "print(mesg)"
      ]
    },
    {
      "cell_type": "markdown",
      "id": "b8687458-afe6-4b96-b125-a984b5fba164",
      "metadata": {
        "id": "b8687458-afe6-4b96-b125-a984b5fba164"
      },
      "source": [
        "When the tolerance was added, the verification was further from zero."
      ]
    },
    {
      "cell_type": "markdown",
      "id": "c2be3cb6-a6bf-4bfc-b2ea-8ecbe709f5c6",
      "metadata": {
        "id": "c2be3cb6-a6bf-4bfc-b2ea-8ecbe709f5c6"
      },
      "source": [
        "## Bisection"
      ]
    },
    {
      "cell_type": "markdown",
      "id": "af8baa7f-3f18-4af0-8ed9-acf41b37fbcd",
      "metadata": {
        "id": "af8baa7f-3f18-4af0-8ed9-acf41b37fbcd"
      },
      "source": [
        "This method employs the intermediate value theorem."
      ]
    },
    {
      "cell_type": "code",
      "execution_count": null,
      "id": "0800923c-d8dd-4316-9899-ce4d348eb53b",
      "metadata": {
        "id": "0800923c-d8dd-4316-9899-ce4d348eb53b"
      },
      "outputs": [],
      "source": [
        "# Similar to the code from the book\n",
        "\n",
        "def bisect(f, a, b, tol):\n",
        "    if np.sign(f(a)) == np.sign(f(b)):\n",
        "        raise Exception(\"These scalars do not bound a root.\")\n",
        "    m = (a + b)/2\n",
        "    if np.abs(f(m)) < tol:\n",
        "        return m\n",
        "    elif np.sign(f(a)) == np.sign(f(m)):\n",
        "        return bisect(f, m, b, tol)\n",
        "    elif np.sign(f(b)) == np.sign(f(m)):\n",
        "        return bisect(f, a, m, tol)"
      ]
    },
    {
      "cell_type": "code",
      "execution_count": null,
      "id": "6c137f78-7f75-449d-a18b-b58de67d33f8",
      "metadata": {
        "id": "6c137f78-7f75-449d-a18b-b58de67d33f8",
        "outputId": "d71313dc-c23e-4f59-e94a-37923dc77cd3"
      },
      "outputs": [
        {
          "name": "stdout",
          "output_type": "stream",
          "text": [
            "root =  5.3828125\n",
            "smaller tolerance root =  5.37841796875\n"
          ]
        }
      ],
      "source": [
        "r = bisect(f, 1, 7, 0.01)\n",
        "print(\"root = \", r)\n",
        "r2 = bisect(f, 1, 7, 0.001)\n",
        "print(\"smaller tolerance root = \", r2)"
      ]
    },
    {
      "cell_type": "code",
      "execution_count": null,
      "id": "04a000f9-3612-4a89-bce9-3dfc45f9461b",
      "metadata": {
        "id": "04a000f9-3612-4a89-bce9-3dfc45f9461b",
        "outputId": "8bf70985-d702-4c8f-9c58-2ca1fe22bdb2"
      },
      "outputs": [
        {
          "ename": "Exception",
          "evalue": "These scalars do not bound a root.",
          "output_type": "error",
          "traceback": [
            "\u001b[0;31m---------------------------------------------------------------------------\u001b[0m",
            "\u001b[0;31mException\u001b[0m                                 Traceback (most recent call last)",
            "Cell \u001b[0;32mIn[19], line 1\u001b[0m\n\u001b[0;32m----> 1\u001b[0m r3 \u001b[38;5;241m=\u001b[39m bisect(f, \u001b[38;5;241m1\u001b[39m, \u001b[38;5;241m2\u001b[39m, \u001b[38;5;241m0.001\u001b[39m)\n",
            "Cell \u001b[0;32mIn[8], line 5\u001b[0m, in \u001b[0;36mbisect\u001b[0;34m(f, a, b, tol)\u001b[0m\n\u001b[1;32m      3\u001b[0m \u001b[38;5;28;01mdef\u001b[39;00m \u001b[38;5;21mbisect\u001b[39m(f, a, b, tol):\n\u001b[1;32m      4\u001b[0m     \u001b[38;5;28;01mif\u001b[39;00m np\u001b[38;5;241m.\u001b[39msign(f(a)) \u001b[38;5;241m==\u001b[39m np\u001b[38;5;241m.\u001b[39msign(f(b)):\n\u001b[0;32m----> 5\u001b[0m         \u001b[38;5;28;01mraise\u001b[39;00m \u001b[38;5;167;01mException\u001b[39;00m(\u001b[38;5;124m\"\u001b[39m\u001b[38;5;124mThese scalars do not bound a root.\u001b[39m\u001b[38;5;124m\"\u001b[39m)\n\u001b[1;32m      6\u001b[0m     m \u001b[38;5;241m=\u001b[39m (a \u001b[38;5;241m+\u001b[39m b)\u001b[38;5;241m/\u001b[39m\u001b[38;5;241m2\u001b[39m\n\u001b[1;32m      7\u001b[0m     \u001b[38;5;28;01mif\u001b[39;00m np\u001b[38;5;241m.\u001b[39mabs(f(m)) \u001b[38;5;241m<\u001b[39m tol:\n",
            "\u001b[0;31mException\u001b[0m: These scalars do not bound a root."
          ]
        }
      ],
      "source": [
        "r3 = bisect(f, 1, 2, 0.001)"
      ]
    },
    {
      "cell_type": "markdown",
      "id": "cf21cce4-d9ce-4e5f-a167-6d753b89def6",
      "metadata": {
        "id": "cf21cce4-d9ce-4e5f-a167-6d753b89def6"
      },
      "source": [
        "## Newton-Raphson Method"
      ]
    },
    {
      "cell_type": "markdown",
      "id": "3f0bbb72-f0d4-4b29-a371-301cf6e92df3",
      "metadata": {
        "id": "3f0bbb72-f0d4-4b29-a371-301cf6e92df3"
      },
      "source": [
        "This method takes a guess and uses linear approximation to improve the guess.j"
      ]
    },
    {
      "cell_type": "code",
      "execution_count": null,
      "id": "fa1d18c4-4046-4948-b025-1c77ed887421",
      "metadata": {
        "id": "fa1d18c4-4046-4948-b025-1c77ed887421",
        "outputId": "2faf7f6a-5ee5-4e8f-fe67-1e0146fb1f5f"
      },
      "outputs": [
        {
          "name": "stdout",
          "output_type": "stream",
          "text": [
            "newton_raphson estimate 5.71627318727965\n"
          ]
        }
      ],
      "source": [
        "import sympy as sp\n",
        "\n",
        "x = sp.symbols('x')\n",
        "f = sp.cos(x)-sp.sin(x)**2\n",
        "f_prime = sp.diff(f,x)\n",
        "f1 = sp.lambdify(x, f, 'numpy')\n",
        "f1_prime = sp.lambdify(x, f_prime, 'numpy')\n",
        "guess = 2.5\n",
        "newton_raphson = guess - (f1(guess))/(f1_prime(guess))\n",
        "print(\"newton_raphson estimate\", newton_raphson)"
      ]
    },
    {
      "cell_type": "markdown",
      "id": "87909735-7ba0-41e3-aa3b-d815059a7fb6",
      "metadata": {
        "id": "87909735-7ba0-41e3-aa3b-d815059a7fb6"
      },
      "source": [
        "This little trick gets us somewhat close, but it can be improved with a recursive function.  We will not be going into that here."
      ]
    },
    {
      "cell_type": "markdown",
      "id": "8a8971f9-0ce6-4326-9623-594f9e4a885b",
      "metadata": {
        "id": "8a8971f9-0ce6-4326-9623-594f9e4a885b"
      },
      "source": [
        "## Test Case \"Pipeline Builder\""
      ]
    },
    {
      "cell_type": "code",
      "execution_count": null,
      "id": "84846f4f-6a9e-4e45-abf9-0ef0ae8455a8",
      "metadata": {
        "id": "84846f4f-6a9e-4e45-abf9-0ef0ae8455a8"
      },
      "outputs": [],
      "source": [
        "def my_pipe_builder(C_ocean, C_land, L, H):\n",
        "    def cost(x):\n",
        "        return C_ocean * np.sqrt(x**2 + H**2) + C_land * (L -x)\n",
        "    def derivative_of_cost(x):\n",
        "        return C_ocean * x / np.sqrt(x**2 + H**2) - C_land\n",
        "    def bisection(a,b,tol=1e-6):\n",
        "        if derivative_of_cost(a) * derivative_of_cost(b) >= 0:\n",
        "            print(\"Cannot use bisection method\")\n",
        "            return None\n",
        "        c = a\n",
        "        while (b - a) / 2 > tol:\n",
        "            c = (a + b) / 2\n",
        "            if derivative_of_cost(c) == 0:\n",
        "                break\n",
        "            if derivative_of_cost(a) * derivative_of_cost(c) < 0:\n",
        "                b = c\n",
        "            else:\n",
        "                a = c\n",
        "        return c\n",
        "    a = 0\n",
        "    b = L\n",
        "    best_x = bisection(a,b)\n",
        "    return best_x"
      ]
    },
    {
      "cell_type": "code",
      "execution_count": null,
      "id": "72867147-265c-486a-97b3-40cb1229fc33",
      "metadata": {
        "id": "72867147-265c-486a-97b3-40cb1229fc33",
        "outputId": "eb661e1b-2851-4c94-b6ee-79aa8deb78d2"
      },
      "outputs": [
        {
          "data": {
            "text/plain": [
              "28.867514431476593"
            ]
          },
          "execution_count": 30,
          "metadata": {},
          "output_type": "execute_result"
        }
      ],
      "source": [
        "my_pipe_builder(20, 10, 100, 50)"
      ]
    },
    {
      "cell_type": "code",
      "execution_count": null,
      "id": "099318ea-7f31-45a6-b8f2-471a06c5900f",
      "metadata": {
        "id": "099318ea-7f31-45a6-b8f2-471a06c5900f",
        "outputId": "c033fd10-bf23-45b5-e865-d7e365a0c21e"
      },
      "outputs": [
        {
          "data": {
            "text/plain": [
              "17.67766922712326"
            ]
          },
          "execution_count": 31,
          "metadata": {},
          "output_type": "execute_result"
        }
      ],
      "source": [
        "my_pipe_builder(30, 10, 100, 50)"
      ]
    },
    {
      "cell_type": "code",
      "execution_count": null,
      "id": "6c3556d3-032b-44cb-9ca2-e7cc33c097dd",
      "metadata": {
        "id": "6c3556d3-032b-44cb-9ca2-e7cc33c097dd",
        "outputId": "06f62e37-d6bd-46fa-b072-6c4b895fd3b7"
      },
      "outputs": [
        {
          "data": {
            "text/plain": [
              "7.07106739282608"
            ]
          },
          "execution_count": 32,
          "metadata": {},
          "output_type": "execute_result"
        }
      ],
      "source": [
        "my_pipe_builder(30, 10, 100, 20)"
      ]
    },
    {
      "cell_type": "markdown",
      "id": "c87f2f5a-6fa9-4274-b5d2-31dc3038feb5",
      "metadata": {
        "id": "c87f2f5a-6fa9-4274-b5d2-31dc3038feb5"
      },
      "source": []
    }
  ],
  "metadata": {
    "kernelspec": {
      "display_name": "Python 3 (ipykernel)",
      "language": "python",
      "name": "python3"
    },
    "language_info": {
      "codemirror_mode": {
        "name": "ipython",
        "version": 3
      },
      "file_extension": ".py",
      "mimetype": "text/x-python",
      "name": "python",
      "nbconvert_exporter": "python",
      "pygments_lexer": "ipython3",
      "version": "3.11.5"
    },
    "colab": {
      "provenance": [],
      "include_colab_link": true
    }
  },
  "nbformat": 4,
  "nbformat_minor": 5
}